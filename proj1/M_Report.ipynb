{
 "cells": [
  {
   "cell_type": "markdown",
   "metadata": {},
   "source": [
    "\n",
    "<h2>Title: Autism Spectrum Disorder Screening</h2>\n",
    "\n",
    "<b>Problem</b><br>\n",
    "Autism spectrum disorder (ASD) is a neurological and developmental disorder that begins early in childhood and lasts throughout a person's life. It affects how a person acts, learns, interacts and communicate with others. As the research have shown that there is a significant increase in ASD (Autistic Spectrum Disorder) cases and often take significant amount of time in screening those cases. This leads to significant healthcare cost and delay in tackling these cases which very much brings down the success rate. Only early intervention of ASD brings out better success rate. \n",
    "\n",
    "<b>Solution</b><br>\n",
    "One solution could be by providing a predictive model based on the attributes would help in screening ASD and classifying it to ASD or non ASD cases. This would help patient and care givers to take intervening measures at the earliest.\n",
    "\n",
    "<b>Client</b><br>\n",
    "Client could be the health care provider/professional or could be parent/family who wants to screen their kids. Screening early would greatly reduce the healthcare cost and will have more success in handling ASD condition. Its proven that early intervention of Autism is the best treatment.\n",
    "\n",
    "<b>Dataset</b>\n",
    "Data has been taken from Kaggle repository and contains 1054 records. There are 18 attributes and are of type categorical, binary and continuous. Data is collected based on the response of screening questions.\n",
    "\n",
    "<br>\n",
    "Following are the questions that were asked to capture the feature (A1_Score-A10_Score). The values (0,1) were determined based on some rules.<br>\n",
    "A1\t Does your child look at you when you call his/her name?<br>\n",
    "A2\tHow easy is it for you to get eye contact with your child? <br>\n",
    "A3\tDoes your child point to indicate that s/he wants something? (e.g. a toy that is out of reach)<br>\n",
    "A4\tDoes your child point to share interest with you? (e.g. pointng at an interesting sight) <br>\n",
    "A5\tDoes your child pretend? (e.g. care for dolls, talk on a toy phone) <br>\n",
    "A6\tDoes your child follow where you’re looking? <br>\n",
    "A7\tIf you or someone else in the family is visibly upset, does your child show signs of wanting to comfort them? (e.g. stroking hair, hugging them)<br>\n",
    "A8\tWould you describe your child’s first words as: <br>\n",
    "A9\tDoes your child use simple gestures? (e.g. wave goodbye) <br>\n",
    "A10\tDoes your child stare at nothing with no apparent purpose? <br>\n",
    "\n",
    "\n",
    "\n",
    "\n",
    "\n",
    "\n",
    "\n"
   ]
  },
  {
   "cell_type": "code",
   "execution_count": 3,
   "metadata": {},
   "outputs": [
    {
     "name": "stdout",
     "output_type": "stream",
     "text": [
      "<class 'pandas.core.frame.DataFrame'>\n",
      "RangeIndex: 1054 entries, 0 to 1053\n",
      "Data columns (total 19 columns):\n",
      "Case_No                   1054 non-null int64\n",
      "A1_Score                  1054 non-null int64\n",
      "A2_Score                  1054 non-null int64\n",
      "A3_Score                  1054 non-null int64\n",
      "A4_Score                  1054 non-null int64\n",
      "A5_Score                  1054 non-null int64\n",
      "A6_Score                  1054 non-null int64\n",
      "A7_Score                  1054 non-null int64\n",
      "A8_Score                  1054 non-null int64\n",
      "A9_Score                  1054 non-null int64\n",
      "A10_Score                 1054 non-null int64\n",
      "Age_Mons                  1054 non-null int64\n",
      "Qchat-10-Score            1054 non-null int64\n",
      "Sex                       1054 non-null object\n",
      "Ethnicity                 1054 non-null object\n",
      "Jaundice                  1054 non-null object\n",
      "Family_mem_with_ASD       1054 non-null object\n",
      "Who completed the test    1054 non-null object\n",
      "ASD                       1054 non-null object\n",
      "dtypes: int64(13), object(6)\n",
      "memory usage: 156.5+ KB\n"
     ]
    }
   ],
   "source": [
    "import pandas as pd\n",
    "data = pd.read_csv(\"C:\\\\data\\\\DataScience\\\\Projects\\\\capstone\\\\proj1\\\\Toddler Autism dataset.csv\")\n",
    "data.info()"
   ]
  },
  {
   "cell_type": "code",
   "execution_count": null,
   "metadata": {
    "collapsed": true
   },
   "outputs": [],
   "source": []
  }
 ],
 "metadata": {
  "kernelspec": {
   "display_name": "Python 3",
   "language": "python",
   "name": "python3"
  },
  "language_info": {
   "codemirror_mode": {
    "name": "ipython",
    "version": 3
   },
   "file_extension": ".py",
   "mimetype": "text/x-python",
   "name": "python",
   "nbconvert_exporter": "python",
   "pygments_lexer": "ipython3",
   "version": "3.6.3"
  }
 },
 "nbformat": 4,
 "nbformat_minor": 2
}
